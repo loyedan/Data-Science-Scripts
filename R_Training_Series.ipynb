{
  "nbformat": 4,
  "nbformat_minor": 0,
  "metadata": {
    "colab": {
      "provenance": [],
      "authorship_tag": "ABX9TyMcX6bhcy5ChGFmQUH5dByB",
      "include_colab_link": true
    },
    "kernelspec": {
      "name": "python3",
      "display_name": "Python 3"
    },
    "language_info": {
      "name": "python"
    }
  },
  "cells": [
    {
      "cell_type": "markdown",
      "metadata": {
        "id": "view-in-github",
        "colab_type": "text"
      },
      "source": [
        "<a href=\"https://colab.research.google.com/github/loyedan/Data-Science-Scripts/blob/main/R_Training_Series.ipynb\" target=\"_parent\"><img src=\"https://colab.research.google.com/assets/colab-badge.svg\" alt=\"Open In Colab\"/></a>"
      ]
    },
    {
      "cell_type": "markdown",
      "source": [
        "# **Cracking Complex Research Problem with Advanced Regression in R: A DeepDive into Forensic Investigation Based on Empirical Data.**"
      ],
      "metadata": {
        "id": "T9id6KYgPzQd"
      }
    },
    {
      "cell_type": "markdown",
      "source": [
        "**Speaker**: Dr. Clement Twumasi\n",
        "\n",
        "\n",
        "**Youtube**: Clement Twumasi Educative Channel"
      ],
      "metadata": {
        "id": "dDKyPxoAQXRs"
      }
    },
    {
      "cell_type": "markdown",
      "source": [],
      "metadata": {
        "id": "ae58Hc7JRMn0"
      }
    },
    {
      "cell_type": "code",
      "execution_count": null,
      "metadata": {
        "id": "VQwuKEBRPg0t"
      },
      "outputs": [],
      "source": []
    }
  ]
}