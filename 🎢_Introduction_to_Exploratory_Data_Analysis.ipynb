{
  "metadata": {
    "kernelspec": {
      "language": "python",
      "display_name": "Python 3",
      "name": "python3"
    },
    "language_info": {
      "pygments_lexer": "ipython3",
      "nbconvert_exporter": "python",
      "version": "3.6.4",
      "file_extension": ".py",
      "codemirror_mode": {
        "name": "ipython",
        "version": 3
      },
      "name": "python",
      "mimetype": "text/x-python"
    },
    "colab": {
      "name": "🎢 Introduction to Exploratory Data Analysis",
      "provenance": [],
      "include_colab_link": true
    }
  },
  "nbformat_minor": 0,
  "nbformat": 4,
  "cells": [
    {
      "cell_type": "markdown",
      "metadata": {
        "id": "view-in-github",
        "colab_type": "text"
      },
      "source": [
        "<a href=\"https://colab.research.google.com/github/loyedan/Data-Science-Tutorials/blob/main/%F0%9F%8E%A2_Introduction_to_Exploratory_Data_Analysis.ipynb\" target=\"_parent\"><img src=\"https://colab.research.google.com/assets/colab-badge.svg\" alt=\"Open In Colab\"/></a>"
      ]
    },
    {
      "source": [
        "\n",
        "# IMPORTANT: RUN THIS CELL IN ORDER TO IMPORT YOUR KAGGLE DATA SOURCES\n",
        "# TO THE CORRECT LOCATION (/kaggle/input) IN YOUR NOTEBOOK,\n",
        "# THEN FEEL FREE TO DELETE THIS CELL.\n",
        "# NOTE: THIS NOTEBOOK ENVIRONMENT DIFFERS FROM KAGGLE'S PYTHON\n",
        "# ENVIRONMENT SO THERE MAY BE MISSING LIBRARIES USED BY YOUR\n",
        "# NOTEBOOK.\n",
        "\n",
        "import os\n",
        "import sys\n",
        "from tempfile import NamedTemporaryFile\n",
        "from urllib.request import urlopen\n",
        "from urllib.parse import unquote, urlparse\n",
        "from urllib.error import HTTPError\n",
        "from zipfile import ZipFile\n",
        "import tarfile\n",
        "import shutil\n",
        "\n",
        "CHUNK_SIZE = 40960\n",
        "DATA_SOURCE_MAPPING = 'rollercoaster-database:https%3A%2F%2Fstorage.googleapis.com%2Fkaggle-data-sets%2F1727728%2F2824917%2Fbundle%2Farchive.zip%3FX-Goog-Algorithm%3DGOOG4-RSA-SHA256%26X-Goog-Credential%3Dgcp-kaggle-com%2540kaggle-161607.iam.gserviceaccount.com%252F20240828%252Fauto%252Fstorage%252Fgoog4_request%26X-Goog-Date%3D20240828T145121Z%26X-Goog-Expires%3D259200%26X-Goog-SignedHeaders%3Dhost%26X-Goog-Signature%3D42921fa2421bfa14366b357927898e0b1cc9cefa9e61ae1a4c48e16105ecafce9530683c7f0ff1febb9045b8a7381bc419b234aa96706ee62fc9c1c5e48bb1281b83f577576c95a382985e8b1d7fedbd2a20c7755a42f3da46dfd312484d5d1026590411ace8dd6712375e4696c42a2bf8c3562e7453ca376ab03f86852d4622a13d9c12ca8ca4d158b28bbbdb532fc6324d881ae17bec73ccf163ed0ad0302022c3c080a1133070ce2e850b562b491cbe44c5f54f119c34e51dcc1b1318dc5892fa46a502a72688f0b858e8ec7ed5cd303b3c6500553e99858769e15a90ec131c559e7cdd0601c13097a89640dd80c626beb10a612b7e72a114945909badc4a'\n",
        "\n",
        "KAGGLE_INPUT_PATH='/kaggle/input'\n",
        "KAGGLE_WORKING_PATH='/kaggle/working'\n",
        "KAGGLE_SYMLINK='kaggle'\n",
        "\n",
        "!umount /kaggle/input/ 2> /dev/null\n",
        "shutil.rmtree('/kaggle/input', ignore_errors=True)\n",
        "os.makedirs(KAGGLE_INPUT_PATH, 0o777, exist_ok=True)\n",
        "os.makedirs(KAGGLE_WORKING_PATH, 0o777, exist_ok=True)\n",
        "\n",
        "try:\n",
        "  os.symlink(KAGGLE_INPUT_PATH, os.path.join(\"..\", 'input'), target_is_directory=True)\n",
        "except FileExistsError:\n",
        "  pass\n",
        "try:\n",
        "  os.symlink(KAGGLE_WORKING_PATH, os.path.join(\"..\", 'working'), target_is_directory=True)\n",
        "except FileExistsError:\n",
        "  pass\n",
        "\n",
        "for data_source_mapping in DATA_SOURCE_MAPPING.split(','):\n",
        "    directory, download_url_encoded = data_source_mapping.split(':')\n",
        "    download_url = unquote(download_url_encoded)\n",
        "    filename = urlparse(download_url).path\n",
        "    destination_path = os.path.join(KAGGLE_INPUT_PATH, directory)\n",
        "    try:\n",
        "        with urlopen(download_url) as fileres, NamedTemporaryFile() as tfile:\n",
        "            total_length = fileres.headers['content-length']\n",
        "            print(f'Downloading {directory}, {total_length} bytes compressed')\n",
        "            dl = 0\n",
        "            data = fileres.read(CHUNK_SIZE)\n",
        "            while len(data) > 0:\n",
        "                dl += len(data)\n",
        "                tfile.write(data)\n",
        "                done = int(50 * dl / int(total_length))\n",
        "                sys.stdout.write(f\"\\r[{'=' * done}{' ' * (50-done)}] {dl} bytes downloaded\")\n",
        "                sys.stdout.flush()\n",
        "                data = fileres.read(CHUNK_SIZE)\n",
        "            if filename.endswith('.zip'):\n",
        "              with ZipFile(tfile) as zfile:\n",
        "                zfile.extractall(destination_path)\n",
        "            else:\n",
        "              with tarfile.open(tfile.name) as tarfile:\n",
        "                tarfile.extractall(destination_path)\n",
        "            print(f'\\nDownloaded and uncompressed: {directory}')\n",
        "    except HTTPError as e:\n",
        "        print(f'Failed to load (likely expired) {download_url} to path {destination_path}')\n",
        "        continue\n",
        "    except OSError as e:\n",
        "        print(f'Failed to load {download_url} to path {destination_path}')\n",
        "        continue\n",
        "\n",
        "print('Data source import complete.')\n"
      ],
      "metadata": {
        "id": "dkf8uBpGeF55",
        "outputId": "348e32d2-f56f-4d2f-b050-c6ef1e587ad9",
        "colab": {
          "base_uri": "https://localhost:8080/"
        }
      },
      "cell_type": "code",
      "outputs": [
        {
          "output_type": "stream",
          "name": "stdout",
          "text": [
            "Downloading rollercoaster-database, 1007277 bytes compressed\n",
            "[==================================================] 1007277 bytes downloaded\n",
            "Downloaded and uncompressed: rollercoaster-database\n",
            "Data source import complete.\n"
          ]
        }
      ],
      "execution_count": 1
    },
    {
      "cell_type": "markdown",
      "source": [
        "# Introduction to Exploritary Data Analysis\n",
        "Using Pandas!\n",
        "\n",
        "This notebook goes along with a tutorial that can be found on the [Medallion Data Science youtube channel](https://www.youtube.com/channel/UCxladMszXan-jfgzyeIMyvw). Click the link and subscribe for future tutorials."
      ],
      "metadata": {
        "id": "iQ312_7-eF5-"
      }
    },
    {
      "cell_type": "markdown",
      "source": [
        "# Step 0: Imports and Reading Data"
      ],
      "metadata": {
        "id": "kdMua7EueF6C"
      }
    },
    {
      "cell_type": "code",
      "source": [
        "import pandas as pd\n",
        "import numpy as np\n",
        "import matplotlib.pylab as plt\n",
        "import seaborn as sns\n",
        "plt.style.use('ggplot')\n",
        "pd.set_option('max_columns', 200)"
      ],
      "metadata": {
        "_uuid": "8f2839f25d086af736a60e9eeb907d3b93b6e0e5",
        "_cell_guid": "b1076dfc-b9ad-4769-8c92-a6c4dae69d19",
        "execution": {
          "iopub.status.busy": "2021-12-31T18:56:46.353551Z",
          "iopub.execute_input": "2021-12-31T18:56:46.354085Z",
          "iopub.status.idle": "2021-12-31T18:56:46.358825Z",
          "shell.execute_reply.started": "2021-12-31T18:56:46.354032Z",
          "shell.execute_reply": "2021-12-31T18:56:46.358025Z"
        },
        "trusted": true,
        "id": "gx_bHZd9eF6D",
        "outputId": "3c5671aa-9d2a-4ad2-a932-768374ef7822",
        "colab": {
          "base_uri": "https://localhost:8080/",
          "height": 321
        }
      },
      "execution_count": 2,
      "outputs": [
        {
          "output_type": "error",
          "ename": "OptionError",
          "evalue": "Pattern matched multiple keys",
          "traceback": [
            "\u001b[0;31m---------------------------------------------------------------------------\u001b[0m",
            "\u001b[0;31mOptionError\u001b[0m                               Traceback (most recent call last)",
            "\u001b[0;32m<ipython-input-2-e6212374d073>\u001b[0m in \u001b[0;36m<cell line: 6>\u001b[0;34m()\u001b[0m\n\u001b[1;32m      4\u001b[0m \u001b[0;32mimport\u001b[0m \u001b[0mseaborn\u001b[0m \u001b[0;32mas\u001b[0m \u001b[0msns\u001b[0m\u001b[0;34m\u001b[0m\u001b[0;34m\u001b[0m\u001b[0m\n\u001b[1;32m      5\u001b[0m \u001b[0mplt\u001b[0m\u001b[0;34m.\u001b[0m\u001b[0mstyle\u001b[0m\u001b[0;34m.\u001b[0m\u001b[0muse\u001b[0m\u001b[0;34m(\u001b[0m\u001b[0;34m'ggplot'\u001b[0m\u001b[0;34m)\u001b[0m\u001b[0;34m\u001b[0m\u001b[0;34m\u001b[0m\u001b[0m\n\u001b[0;32m----> 6\u001b[0;31m \u001b[0mpd\u001b[0m\u001b[0;34m.\u001b[0m\u001b[0mset_option\u001b[0m\u001b[0;34m(\u001b[0m\u001b[0;34m'max_columns'\u001b[0m\u001b[0;34m,\u001b[0m \u001b[0;36m200\u001b[0m\u001b[0;34m)\u001b[0m\u001b[0;34m\u001b[0m\u001b[0;34m\u001b[0m\u001b[0m\n\u001b[0m",
            "\u001b[0;32m/usr/local/lib/python3.10/dist-packages/pandas/_config/config.py\u001b[0m in \u001b[0;36m__call__\u001b[0;34m(self, *args, **kwds)\u001b[0m\n\u001b[1;32m    270\u001b[0m \u001b[0;34m\u001b[0m\u001b[0m\n\u001b[1;32m    271\u001b[0m     \u001b[0;32mdef\u001b[0m \u001b[0m__call__\u001b[0m\u001b[0;34m(\u001b[0m\u001b[0mself\u001b[0m\u001b[0;34m,\u001b[0m \u001b[0;34m*\u001b[0m\u001b[0margs\u001b[0m\u001b[0;34m,\u001b[0m \u001b[0;34m**\u001b[0m\u001b[0mkwds\u001b[0m\u001b[0;34m)\u001b[0m \u001b[0;34m->\u001b[0m \u001b[0mT\u001b[0m\u001b[0;34m:\u001b[0m\u001b[0;34m\u001b[0m\u001b[0;34m\u001b[0m\u001b[0m\n\u001b[0;32m--> 272\u001b[0;31m         \u001b[0;32mreturn\u001b[0m \u001b[0mself\u001b[0m\u001b[0;34m.\u001b[0m\u001b[0m__func__\u001b[0m\u001b[0;34m(\u001b[0m\u001b[0;34m*\u001b[0m\u001b[0margs\u001b[0m\u001b[0;34m,\u001b[0m \u001b[0;34m**\u001b[0m\u001b[0mkwds\u001b[0m\u001b[0;34m)\u001b[0m\u001b[0;34m\u001b[0m\u001b[0;34m\u001b[0m\u001b[0m\n\u001b[0m\u001b[1;32m    273\u001b[0m \u001b[0;34m\u001b[0m\u001b[0m\n\u001b[1;32m    274\u001b[0m     \u001b[0;31m# error: Signature of \"__doc__\" incompatible with supertype \"object\"\u001b[0m\u001b[0;34m\u001b[0m\u001b[0;34m\u001b[0m\u001b[0m\n",
            "\u001b[0;32m/usr/local/lib/python3.10/dist-packages/pandas/_config/config.py\u001b[0m in \u001b[0;36m_set_option\u001b[0;34m(*args, **kwargs)\u001b[0m\n\u001b[1;32m    165\u001b[0m \u001b[0;34m\u001b[0m\u001b[0m\n\u001b[1;32m    166\u001b[0m     \u001b[0;32mfor\u001b[0m \u001b[0mk\u001b[0m\u001b[0;34m,\u001b[0m \u001b[0mv\u001b[0m \u001b[0;32min\u001b[0m \u001b[0mzip\u001b[0m\u001b[0;34m(\u001b[0m\u001b[0margs\u001b[0m\u001b[0;34m[\u001b[0m\u001b[0;34m:\u001b[0m\u001b[0;34m:\u001b[0m\u001b[0;36m2\u001b[0m\u001b[0;34m]\u001b[0m\u001b[0;34m,\u001b[0m \u001b[0margs\u001b[0m\u001b[0;34m[\u001b[0m\u001b[0;36m1\u001b[0m\u001b[0;34m:\u001b[0m\u001b[0;34m:\u001b[0m\u001b[0;36m2\u001b[0m\u001b[0;34m]\u001b[0m\u001b[0;34m)\u001b[0m\u001b[0;34m:\u001b[0m\u001b[0;34m\u001b[0m\u001b[0;34m\u001b[0m\u001b[0m\n\u001b[0;32m--> 167\u001b[0;31m         \u001b[0mkey\u001b[0m \u001b[0;34m=\u001b[0m \u001b[0m_get_single_key\u001b[0m\u001b[0;34m(\u001b[0m\u001b[0mk\u001b[0m\u001b[0;34m,\u001b[0m \u001b[0msilent\u001b[0m\u001b[0;34m)\u001b[0m\u001b[0;34m\u001b[0m\u001b[0;34m\u001b[0m\u001b[0m\n\u001b[0m\u001b[1;32m    168\u001b[0m \u001b[0;34m\u001b[0m\u001b[0m\n\u001b[1;32m    169\u001b[0m         \u001b[0mo\u001b[0m \u001b[0;34m=\u001b[0m \u001b[0m_get_registered_option\u001b[0m\u001b[0;34m(\u001b[0m\u001b[0mkey\u001b[0m\u001b[0;34m)\u001b[0m\u001b[0;34m\u001b[0m\u001b[0;34m\u001b[0m\u001b[0m\n",
            "\u001b[0;32m/usr/local/lib/python3.10/dist-packages/pandas/_config/config.py\u001b[0m in \u001b[0;36m_get_single_key\u001b[0;34m(pat, silent)\u001b[0m\n\u001b[1;32m    132\u001b[0m         \u001b[0;32mraise\u001b[0m \u001b[0mOptionError\u001b[0m\u001b[0;34m(\u001b[0m\u001b[0;34mf\"No such keys(s): {repr(pat)}\"\u001b[0m\u001b[0;34m)\u001b[0m\u001b[0;34m\u001b[0m\u001b[0;34m\u001b[0m\u001b[0m\n\u001b[1;32m    133\u001b[0m     \u001b[0;32mif\u001b[0m \u001b[0mlen\u001b[0m\u001b[0;34m(\u001b[0m\u001b[0mkeys\u001b[0m\u001b[0;34m)\u001b[0m \u001b[0;34m>\u001b[0m \u001b[0;36m1\u001b[0m\u001b[0;34m:\u001b[0m\u001b[0;34m\u001b[0m\u001b[0;34m\u001b[0m\u001b[0m\n\u001b[0;32m--> 134\u001b[0;31m         \u001b[0;32mraise\u001b[0m \u001b[0mOptionError\u001b[0m\u001b[0;34m(\u001b[0m\u001b[0;34m\"Pattern matched multiple keys\"\u001b[0m\u001b[0;34m)\u001b[0m\u001b[0;34m\u001b[0m\u001b[0;34m\u001b[0m\u001b[0m\n\u001b[0m\u001b[1;32m    135\u001b[0m     \u001b[0mkey\u001b[0m \u001b[0;34m=\u001b[0m \u001b[0mkeys\u001b[0m\u001b[0;34m[\u001b[0m\u001b[0;36m0\u001b[0m\u001b[0;34m]\u001b[0m\u001b[0;34m\u001b[0m\u001b[0;34m\u001b[0m\u001b[0m\n\u001b[1;32m    136\u001b[0m \u001b[0;34m\u001b[0m\u001b[0m\n",
            "\u001b[0;31mOptionError\u001b[0m: Pattern matched multiple keys"
          ]
        }
      ]
    },
    {
      "cell_type": "code",
      "source": [
        "df = pd.read_csv('../input/rollercoaster-database/coaster_db.csv')"
      ],
      "metadata": {
        "execution": {
          "iopub.status.busy": "2021-12-31T18:56:46.639134Z",
          "iopub.execute_input": "2021-12-31T18:56:46.639719Z",
          "iopub.status.idle": "2021-12-31T18:56:46.667382Z",
          "shell.execute_reply.started": "2021-12-31T18:56:46.639684Z",
          "shell.execute_reply": "2021-12-31T18:56:46.666476Z"
        },
        "trusted": true,
        "id": "5vEN93hCeF6E"
      },
      "execution_count": null,
      "outputs": []
    },
    {
      "cell_type": "markdown",
      "source": [
        "## Step 1: Data Understanding\n",
        "- Dataframe `shape`\n",
        "- `head` and `tail`\n",
        "- `dtypes`\n",
        "- `describe`\n"
      ],
      "metadata": {
        "id": "OOdGr-hoeF6F"
      }
    },
    {
      "cell_type": "code",
      "source": [
        "df.shape"
      ],
      "metadata": {
        "execution": {
          "iopub.status.busy": "2021-12-31T18:56:47.269667Z",
          "iopub.execute_input": "2021-12-31T18:56:47.270011Z",
          "iopub.status.idle": "2021-12-31T18:56:47.276513Z",
          "shell.execute_reply.started": "2021-12-31T18:56:47.269977Z",
          "shell.execute_reply": "2021-12-31T18:56:47.275687Z"
        },
        "trusted": true,
        "id": "FbIl-MEaeF6F"
      },
      "execution_count": null,
      "outputs": []
    },
    {
      "cell_type": "code",
      "source": [
        "df.head(5)"
      ],
      "metadata": {
        "execution": {
          "iopub.status.busy": "2021-12-31T18:56:47.613142Z",
          "iopub.execute_input": "2021-12-31T18:56:47.613539Z",
          "iopub.status.idle": "2021-12-31T18:56:47.658922Z",
          "shell.execute_reply.started": "2021-12-31T18:56:47.613509Z",
          "shell.execute_reply": "2021-12-31T18:56:47.658309Z"
        },
        "trusted": true,
        "id": "4n6JYyLzeF6H"
      },
      "execution_count": null,
      "outputs": []
    },
    {
      "cell_type": "code",
      "source": [
        "df.columns"
      ],
      "metadata": {
        "execution": {
          "iopub.status.busy": "2021-12-31T18:56:47.948319Z",
          "iopub.execute_input": "2021-12-31T18:56:47.948602Z",
          "iopub.status.idle": "2021-12-31T18:56:47.954587Z",
          "shell.execute_reply.started": "2021-12-31T18:56:47.948571Z",
          "shell.execute_reply": "2021-12-31T18:56:47.953845Z"
        },
        "trusted": true,
        "id": "5797Qc1DeF6I"
      },
      "execution_count": null,
      "outputs": []
    },
    {
      "cell_type": "code",
      "source": [
        "df.dtypes"
      ],
      "metadata": {
        "execution": {
          "iopub.status.busy": "2021-12-31T18:56:48.282973Z",
          "iopub.execute_input": "2021-12-31T18:56:48.283386Z",
          "iopub.status.idle": "2021-12-31T18:56:48.290983Z",
          "shell.execute_reply.started": "2021-12-31T18:56:48.283347Z",
          "shell.execute_reply": "2021-12-31T18:56:48.290188Z"
        },
        "trusted": true,
        "id": "Lj1DrTIIeF6J"
      },
      "execution_count": null,
      "outputs": []
    },
    {
      "cell_type": "code",
      "source": [
        "df.describe()"
      ],
      "metadata": {
        "execution": {
          "iopub.status.busy": "2021-12-31T18:56:48.647734Z",
          "iopub.execute_input": "2021-12-31T18:56:48.648041Z",
          "iopub.status.idle": "2021-12-31T18:56:48.687364Z",
          "shell.execute_reply.started": "2021-12-31T18:56:48.648007Z",
          "shell.execute_reply": "2021-12-31T18:56:48.686367Z"
        },
        "trusted": true,
        "id": "ZTUiic4geF6K"
      },
      "execution_count": null,
      "outputs": []
    },
    {
      "cell_type": "markdown",
      "source": [
        "# Step 2: Data Preperation\n",
        "- Dropping irrelevant columns and rows\n",
        "- Identifying duplicated columns\n",
        "- Renaming Columns\n",
        "- Feature Creation"
      ],
      "metadata": {
        "id": "lyBrjFt7eF6K"
      }
    },
    {
      "cell_type": "code",
      "source": [
        "# Example of dropping columns\n",
        "# df.drop(['Opening date'], axis=1)"
      ],
      "metadata": {
        "execution": {
          "iopub.status.busy": "2021-12-31T19:02:01.35753Z",
          "iopub.execute_input": "2021-12-31T19:02:01.357864Z",
          "iopub.status.idle": "2021-12-31T19:02:01.361906Z",
          "shell.execute_reply.started": "2021-12-31T19:02:01.357828Z",
          "shell.execute_reply": "2021-12-31T19:02:01.361166Z"
        },
        "trusted": true,
        "id": "28bIMBmleF6L"
      },
      "execution_count": null,
      "outputs": []
    },
    {
      "cell_type": "code",
      "source": [
        "df = df[['coaster_name',\n",
        "    # 'Length', 'Speed',\n",
        "    'Location', 'Status',\n",
        "    # 'Opening date',\n",
        "    #   'Type',\n",
        "    'Manufacturer',\n",
        "#     'Height restriction', 'Model', 'Height',\n",
        "#        'Inversions', 'Lift/launch system', 'Cost', 'Trains', 'Park section',\n",
        "#        'Duration', 'Capacity', 'G-force', 'Designer', 'Max vertical angle',\n",
        "#        'Drop', 'Soft opening date', 'Fast Lane available', 'Replaced',\n",
        "#        'Track layout', 'Fastrack available', 'Soft opening date.1',\n",
        "#        'Closing date',\n",
        "#     'Opened',\n",
        "    # 'Replaced by', 'Website',\n",
        "#        'Flash Pass Available', 'Must transfer from wheelchair', 'Theme',\n",
        "#        'Single rider line available', 'Restraint Style',\n",
        "#        'Flash Pass available', 'Acceleration', 'Restraints', 'Name',\n",
        "       'year_introduced',\n",
        "        'latitude', 'longitude',\n",
        "    'Type_Main',\n",
        "       'opening_date_clean',\n",
        "    #'speed1', 'speed2', 'speed1_value', 'speed1_unit',\n",
        "       'speed_mph',\n",
        "    #'height_value', 'height_unit',\n",
        "    'height_ft',\n",
        "       'Inversions_clean', 'Gforce_clean']].copy()"
      ],
      "metadata": {
        "execution": {
          "iopub.status.busy": "2021-12-31T19:02:44.759287Z",
          "iopub.execute_input": "2021-12-31T19:02:44.759556Z",
          "iopub.status.idle": "2021-12-31T19:02:44.768073Z",
          "shell.execute_reply.started": "2021-12-31T19:02:44.759528Z",
          "shell.execute_reply": "2021-12-31T19:02:44.767002Z"
        },
        "trusted": true,
        "id": "HC2SltwceF6L"
      },
      "execution_count": null,
      "outputs": []
    },
    {
      "cell_type": "code",
      "source": [
        "df['opening_date_clean'] = pd.to_datetime(df['opening_date_clean'])"
      ],
      "metadata": {
        "execution": {
          "iopub.status.busy": "2021-12-31T19:03:34.100419Z",
          "iopub.execute_input": "2021-12-31T19:03:34.10083Z",
          "iopub.status.idle": "2021-12-31T19:03:34.108123Z",
          "shell.execute_reply.started": "2021-12-31T19:03:34.100799Z",
          "shell.execute_reply": "2021-12-31T19:03:34.107322Z"
        },
        "trusted": true,
        "id": "RSsNwQx-eF6L"
      },
      "execution_count": null,
      "outputs": []
    },
    {
      "cell_type": "code",
      "source": [
        "# Rename our columns\n",
        "df = df.rename(columns={'coaster_name':'Coaster_Name',\n",
        "                   'year_introduced':'Year_Introduced',\n",
        "                   'opening_date_clean':'Opening_Date',\n",
        "                   'speed_mph':'Speed_mph',\n",
        "                   'height_ft':'Height_ft',\n",
        "                   'Inversions_clean':'Inversions',\n",
        "                   'Gforce_clean':'Gforce'})"
      ],
      "metadata": {
        "execution": {
          "iopub.status.busy": "2021-12-31T19:07:00.935467Z",
          "iopub.execute_input": "2021-12-31T19:07:00.936143Z",
          "iopub.status.idle": "2021-12-31T19:07:00.943112Z",
          "shell.execute_reply.started": "2021-12-31T19:07:00.936091Z",
          "shell.execute_reply": "2021-12-31T19:07:00.942155Z"
        },
        "trusted": true,
        "id": "CaDqrBF3eF6M"
      },
      "execution_count": null,
      "outputs": []
    },
    {
      "cell_type": "code",
      "source": [
        "df.isna().sum()"
      ],
      "metadata": {
        "execution": {
          "iopub.status.busy": "2021-12-31T19:07:47.743843Z",
          "iopub.execute_input": "2021-12-31T19:07:47.744794Z",
          "iopub.status.idle": "2021-12-31T19:07:47.754112Z",
          "shell.execute_reply.started": "2021-12-31T19:07:47.744749Z",
          "shell.execute_reply": "2021-12-31T19:07:47.753179Z"
        },
        "trusted": true,
        "id": "cG0lGTdBeF6M"
      },
      "execution_count": null,
      "outputs": []
    },
    {
      "cell_type": "code",
      "source": [
        "df.loc[df.duplicated()]"
      ],
      "metadata": {
        "execution": {
          "iopub.status.busy": "2021-12-31T19:09:09.229944Z",
          "iopub.execute_input": "2021-12-31T19:09:09.23084Z",
          "iopub.status.idle": "2021-12-31T19:09:09.2479Z",
          "shell.execute_reply.started": "2021-12-31T19:09:09.230776Z",
          "shell.execute_reply": "2021-12-31T19:09:09.247222Z"
        },
        "trusted": true,
        "id": "iAGU84YfeF6M"
      },
      "execution_count": null,
      "outputs": []
    },
    {
      "cell_type": "code",
      "source": [
        "# Check for duplicate coaster name\n",
        "df.loc[df.duplicated(subset=['Coaster_Name'])].head(5)"
      ],
      "metadata": {
        "execution": {
          "iopub.status.busy": "2021-12-31T19:10:13.801128Z",
          "iopub.execute_input": "2021-12-31T19:10:13.801563Z",
          "iopub.status.idle": "2021-12-31T19:10:13.824876Z",
          "shell.execute_reply.started": "2021-12-31T19:10:13.801525Z",
          "shell.execute_reply": "2021-12-31T19:10:13.824228Z"
        },
        "trusted": true,
        "id": "LHmsMc8ReF6M"
      },
      "execution_count": null,
      "outputs": []
    },
    {
      "cell_type": "code",
      "source": [
        "# Checking an example duplicate\n",
        "df.query('Coaster_Name == \"Crystal Beach Cyclone\"')"
      ],
      "metadata": {
        "execution": {
          "iopub.status.busy": "2021-12-31T19:11:30.91631Z",
          "iopub.execute_input": "2021-12-31T19:11:30.916627Z",
          "iopub.status.idle": "2021-12-31T19:11:30.934924Z",
          "shell.execute_reply.started": "2021-12-31T19:11:30.916597Z",
          "shell.execute_reply": "2021-12-31T19:11:30.934358Z"
        },
        "trusted": true,
        "id": "xV1pv6_weF6M"
      },
      "execution_count": null,
      "outputs": []
    },
    {
      "cell_type": "code",
      "source": [
        "df.columns"
      ],
      "metadata": {
        "execution": {
          "iopub.status.busy": "2021-12-31T19:11:46.197705Z",
          "iopub.execute_input": "2021-12-31T19:11:46.198033Z",
          "iopub.status.idle": "2021-12-31T19:11:46.204172Z",
          "shell.execute_reply.started": "2021-12-31T19:11:46.198003Z",
          "shell.execute_reply": "2021-12-31T19:11:46.203259Z"
        },
        "trusted": true,
        "id": "eReITA1seF6N"
      },
      "execution_count": null,
      "outputs": []
    },
    {
      "cell_type": "code",
      "source": [
        "df = df.loc[~df.duplicated(subset=['Coaster_Name','Location','Opening_Date'])] \\\n",
        "    .reset_index(drop=True).copy()"
      ],
      "metadata": {
        "execution": {
          "iopub.status.busy": "2021-12-31T19:13:58.914303Z",
          "iopub.execute_input": "2021-12-31T19:13:58.914698Z",
          "iopub.status.idle": "2021-12-31T19:13:58.9217Z",
          "shell.execute_reply.started": "2021-12-31T19:13:58.914669Z",
          "shell.execute_reply": "2021-12-31T19:13:58.92102Z"
        },
        "trusted": true,
        "id": "uhMncMdCeF6N"
      },
      "execution_count": null,
      "outputs": []
    },
    {
      "cell_type": "markdown",
      "source": [
        "# Step 3: Feature Understanding\n",
        "(Univariate analysis)\n",
        "\n",
        "- Plotting Feature Distributions\n",
        "    - Histogram\n",
        "    - KDE\n",
        "    - Boxplot"
      ],
      "metadata": {
        "id": "bFEzpx3ieF6N"
      }
    },
    {
      "cell_type": "code",
      "source": [
        "df['Year_Introduced'].value_counts()"
      ],
      "metadata": {
        "execution": {
          "iopub.status.busy": "2021-12-31T19:15:42.180128Z",
          "iopub.execute_input": "2021-12-31T19:15:42.180536Z",
          "iopub.status.idle": "2021-12-31T19:15:42.188209Z",
          "shell.execute_reply.started": "2021-12-31T19:15:42.180508Z",
          "shell.execute_reply": "2021-12-31T19:15:42.187385Z"
        },
        "trusted": true,
        "id": "5H5ztZZ4eF6N"
      },
      "execution_count": null,
      "outputs": []
    },
    {
      "cell_type": "code",
      "source": [
        "ax = df['Year_Introduced'].value_counts() \\\n",
        "    .head(10) \\\n",
        "    .plot(kind='bar', title='Top 10 Years Coasters Introduced')\n",
        "ax.set_xlabel('Year Introduced')\n",
        "ax.set_ylabel('Count')"
      ],
      "metadata": {
        "execution": {
          "iopub.status.busy": "2021-12-31T19:18:37.875007Z",
          "iopub.execute_input": "2021-12-31T19:18:37.875663Z",
          "iopub.status.idle": "2021-12-31T19:18:38.080836Z",
          "shell.execute_reply.started": "2021-12-31T19:18:37.875615Z",
          "shell.execute_reply": "2021-12-31T19:18:38.07998Z"
        },
        "trusted": true,
        "id": "G63sBfbleF6N"
      },
      "execution_count": null,
      "outputs": []
    },
    {
      "cell_type": "code",
      "source": [
        "ax = df['Speed_mph'].plot(kind='hist',\n",
        "                          bins=20,\n",
        "                          title='Coaster Speed (mph)')\n",
        "ax.set_xlabel('Speed (mph)')"
      ],
      "metadata": {
        "execution": {
          "iopub.status.busy": "2021-12-31T19:23:10.801878Z",
          "iopub.execute_input": "2021-12-31T19:23:10.802756Z",
          "iopub.status.idle": "2021-12-31T19:23:11.040812Z",
          "shell.execute_reply.started": "2021-12-31T19:23:10.802718Z",
          "shell.execute_reply": "2021-12-31T19:23:11.039768Z"
        },
        "trusted": true,
        "id": "1DFG9WnpeF6N"
      },
      "execution_count": null,
      "outputs": []
    },
    {
      "cell_type": "code",
      "source": [
        "ax = df['Speed_mph'].plot(kind='kde',\n",
        "                          title='Coaster Speed (mph)')\n",
        "ax.set_xlabel('Speed (mph)')"
      ],
      "metadata": {
        "execution": {
          "iopub.status.busy": "2021-12-31T19:23:50.580456Z",
          "iopub.execute_input": "2021-12-31T19:23:50.580721Z",
          "iopub.status.idle": "2021-12-31T19:23:50.777702Z",
          "shell.execute_reply.started": "2021-12-31T19:23:50.580693Z",
          "shell.execute_reply": "2021-12-31T19:23:50.776696Z"
        },
        "trusted": true,
        "id": "D_-8K5sXeF6O"
      },
      "execution_count": null,
      "outputs": []
    },
    {
      "cell_type": "code",
      "source": [
        "df['Type_Main'].value_counts()"
      ],
      "metadata": {
        "execution": {
          "iopub.status.busy": "2021-12-31T19:24:46.445487Z",
          "iopub.execute_input": "2021-12-31T19:24:46.445746Z",
          "iopub.status.idle": "2021-12-31T19:24:46.454475Z",
          "shell.execute_reply.started": "2021-12-31T19:24:46.445719Z",
          "shell.execute_reply": "2021-12-31T19:24:46.453787Z"
        },
        "trusted": true,
        "id": "yF38Y2_neF6O"
      },
      "execution_count": null,
      "outputs": []
    },
    {
      "cell_type": "markdown",
      "source": [
        "# Step 4: Feature Relationships\n",
        "- Scatterplot\n",
        "- Heatmap Correlation\n",
        "- Pairplot\n",
        "- Groupby comparisons"
      ],
      "metadata": {
        "id": "8s5i0WIleF6O"
      }
    },
    {
      "cell_type": "code",
      "source": [
        "df.plot(kind='scatter',\n",
        "        x='Speed_mph',\n",
        "        y='Height_ft',\n",
        "        title='Coaster Speed vs. Height')\n",
        "plt.show()"
      ],
      "metadata": {
        "execution": {
          "iopub.status.busy": "2021-12-31T19:28:27.768444Z",
          "iopub.execute_input": "2021-12-31T19:28:27.768762Z",
          "iopub.status.idle": "2021-12-31T19:28:27.997695Z",
          "shell.execute_reply.started": "2021-12-31T19:28:27.768721Z",
          "shell.execute_reply": "2021-12-31T19:28:27.996745Z"
        },
        "trusted": true,
        "id": "qDF5mzsReF6O"
      },
      "execution_count": null,
      "outputs": []
    },
    {
      "cell_type": "code",
      "source": [
        "ax = sns.scatterplot(x='Speed_mph',\n",
        "                y='Height_ft',\n",
        "                hue='Year_Introduced',\n",
        "                data=df)\n",
        "ax.set_title('Coaster Speed vs. Height')\n",
        "plt.show()"
      ],
      "metadata": {
        "execution": {
          "iopub.status.busy": "2021-12-31T19:33:28.681335Z",
          "iopub.execute_input": "2021-12-31T19:33:28.681767Z",
          "iopub.status.idle": "2021-12-31T19:33:28.987093Z",
          "shell.execute_reply.started": "2021-12-31T19:33:28.681729Z",
          "shell.execute_reply": "2021-12-31T19:33:28.986081Z"
        },
        "trusted": true,
        "id": "QQMiSEPCeF6O"
      },
      "execution_count": null,
      "outputs": []
    },
    {
      "cell_type": "code",
      "source": [
        "sns.pairplot(df,\n",
        "             vars=['Year_Introduced','Speed_mph',\n",
        "                   'Height_ft','Inversions','Gforce'],\n",
        "            hue='Type_Main')\n",
        "plt.show()"
      ],
      "metadata": {
        "execution": {
          "iopub.status.busy": "2021-12-31T19:44:18.59614Z",
          "iopub.execute_input": "2021-12-31T19:44:18.596449Z",
          "iopub.status.idle": "2021-12-31T19:44:26.264213Z",
          "shell.execute_reply.started": "2021-12-31T19:44:18.59642Z",
          "shell.execute_reply": "2021-12-31T19:44:26.263222Z"
        },
        "trusted": true,
        "id": "BNOZaL8IeF6P"
      },
      "execution_count": null,
      "outputs": []
    },
    {
      "cell_type": "code",
      "source": [
        "df_corr = df[['Year_Introduced','Speed_mph',\n",
        "    'Height_ft','Inversions','Gforce']].dropna().corr()\n",
        "df_corr"
      ],
      "metadata": {
        "execution": {
          "iopub.status.busy": "2021-12-31T19:46:48.88683Z",
          "iopub.execute_input": "2021-12-31T19:46:48.887658Z",
          "iopub.status.idle": "2021-12-31T19:46:48.905496Z",
          "shell.execute_reply.started": "2021-12-31T19:46:48.887613Z",
          "shell.execute_reply": "2021-12-31T19:46:48.904692Z"
        },
        "trusted": true,
        "id": "L1p0Kur3eF6Q"
      },
      "execution_count": null,
      "outputs": []
    },
    {
      "cell_type": "code",
      "source": [
        "sns.heatmap(df_corr, annot=True)"
      ],
      "metadata": {
        "execution": {
          "iopub.status.busy": "2021-12-31T19:47:08.677068Z",
          "iopub.execute_input": "2021-12-31T19:47:08.677335Z",
          "iopub.status.idle": "2021-12-31T19:47:08.996226Z",
          "shell.execute_reply.started": "2021-12-31T19:47:08.677308Z",
          "shell.execute_reply": "2021-12-31T19:47:08.995238Z"
        },
        "trusted": true,
        "id": "ExIOsUA0eF6Q"
      },
      "execution_count": null,
      "outputs": []
    },
    {
      "cell_type": "markdown",
      "source": [
        "# Step 5: Ask a Question about the data\n",
        "- Try to answer a question you have about the data using a plot or statistic.\n",
        "\n",
        "What are the locations with the fastest roller coasters (minimum of 10)?"
      ],
      "metadata": {
        "execution": {
          "iopub.status.busy": "2021-12-31T20:08:11.029825Z",
          "iopub.execute_input": "2021-12-31T20:08:11.030274Z",
          "iopub.status.idle": "2021-12-31T20:08:11.035592Z",
          "shell.execute_reply.started": "2021-12-31T20:08:11.030244Z",
          "shell.execute_reply": "2021-12-31T20:08:11.03458Z"
        },
        "id": "oRD1OFW-eF6Q"
      }
    },
    {
      "cell_type": "code",
      "source": [
        "ax = df.query('Location != \"Other\"') \\\n",
        "    .groupby('Location')['Speed_mph'] \\\n",
        "    .agg(['mean','count']) \\\n",
        "    .query('count >= 10') \\\n",
        "    .sort_values('mean')['mean'] \\\n",
        "    .plot(kind='barh', figsize=(12, 5), title='Average Coast Speed by Location')\n",
        "ax.set_xlabel('Average Coaster Speed')\n",
        "plt.show()"
      ],
      "metadata": {
        "execution": {
          "iopub.status.busy": "2021-12-31T20:12:48.582882Z",
          "iopub.execute_input": "2021-12-31T20:12:48.583615Z",
          "iopub.status.idle": "2021-12-31T20:12:48.841186Z",
          "shell.execute_reply.started": "2021-12-31T20:12:48.583584Z",
          "shell.execute_reply": "2021-12-31T20:12:48.840345Z"
        },
        "trusted": true,
        "id": "juCnt_xVeF6R"
      },
      "execution_count": null,
      "outputs": []
    }
  ]
}